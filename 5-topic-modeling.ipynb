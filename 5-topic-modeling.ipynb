{
 "cells": [
  {
   "cell_type": "code",
   "execution_count": 18,
   "metadata": {},
   "outputs": [],
   "source": [
    "import spacy\n",
    "import pandas as pd\n",
    "from gensim.corpora.dictionary import Dictionary# build model\n",
    "from gensim.models import LdaMulticore\n",
    "from gensim.models import CoherenceModel\n",
    "import matplotlib.pyplot as plt\n",
    "import pyLDAvis.gensim_models"
   ]
  },
  {
   "cell_type": "code",
   "execution_count": null,
   "metadata": {},
   "outputs": [],
   "source": [
    "pyLDAvis.enable_notebook()"
   ]
  },
  {
   "cell_type": "code",
   "execution_count": 19,
   "metadata": {},
   "outputs": [],
   "source": [
    "# load spacy english model\n",
    "en_model = spacy.load('en_core_web_sm')"
   ]
  },
  {
   "cell_type": "code",
   "execution_count": 20,
   "metadata": {},
   "outputs": [],
   "source": [
    "# load dataset\n",
    "emails = pd.read_csv('dataset/train_test_tm.csv')"
   ]
  },
  {
   "cell_type": "code",
   "execution_count": 21,
   "metadata": {},
   "outputs": [
    {
     "data": {
      "text/html": [
       "<div>\n",
       "<style scoped>\n",
       "    .dataframe tbody tr th:only-of-type {\n",
       "        vertical-align: middle;\n",
       "    }\n",
       "\n",
       "    .dataframe tbody tr th {\n",
       "        vertical-align: top;\n",
       "    }\n",
       "\n",
       "    .dataframe thead th {\n",
       "        text-align: right;\n",
       "    }\n",
       "</style>\n",
       "<table border=\"1\" class=\"dataframe\">\n",
       "  <thead>\n",
       "    <tr style=\"text-align: right;\">\n",
       "      <th></th>\n",
       "      <th>file</th>\n",
       "      <th>from</th>\n",
       "      <th>email_body</th>\n",
       "    </tr>\n",
       "  </thead>\n",
       "  <tbody>\n",
       "    <tr>\n",
       "      <th>0</th>\n",
       "      <td>mann___k___sent_mail_608</td>\n",
       "      <td>kay.mann@enron.com</td>\n",
       "      <td>hi warren please print all of these documents ...</td>\n",
       "    </tr>\n",
       "    <tr>\n",
       "      <th>1</th>\n",
       "      <td>farmer___d__wellhead_195</td>\n",
       "      <td>mary.poorman@enron.com</td>\n",
       "      <td>i have measurement actuals for the first days ...</td>\n",
       "    </tr>\n",
       "    <tr>\n",
       "      <th>2</th>\n",
       "      <td>dasovich___j__notes_inbox_1882</td>\n",
       "      <td>susan.mara@enron.com</td>\n",
       "      <td>ill check around with some people today</td>\n",
       "    </tr>\n",
       "    <tr>\n",
       "      <th>3</th>\n",
       "      <td>dasovich___j__notes_inbox_1821</td>\n",
       "      <td>susan.mara@enron.com</td>\n",
       "      <td>this is pretty much an allout attack against t...</td>\n",
       "    </tr>\n",
       "    <tr>\n",
       "      <th>4</th>\n",
       "      <td>keavey___p__deleted_items_80</td>\n",
       "      <td>postmaster@dowjones.com</td>\n",
       "      <td>your message to omeara dina edmiston john gas ...</td>\n",
       "    </tr>\n",
       "  </tbody>\n",
       "</table>\n",
       "</div>"
      ],
      "text/plain": [
       "                             file                     from  \\\n",
       "0        mann___k___sent_mail_608       kay.mann@enron.com   \n",
       "1        farmer___d__wellhead_195   mary.poorman@enron.com   \n",
       "2  dasovich___j__notes_inbox_1882     susan.mara@enron.com   \n",
       "3  dasovich___j__notes_inbox_1821     susan.mara@enron.com   \n",
       "4    keavey___p__deleted_items_80  postmaster@dowjones.com   \n",
       "\n",
       "                                          email_body  \n",
       "0  hi warren please print all of these documents ...  \n",
       "1  i have measurement actuals for the first days ...  \n",
       "2            ill check around with some people today  \n",
       "3  this is pretty much an allout attack against t...  \n",
       "4  your message to omeara dina edmiston john gas ...  "
      ]
     },
     "execution_count": 21,
     "metadata": {},
     "output_type": "execute_result"
    }
   ],
   "source": [
    "emails.head()"
   ]
  },
  {
   "cell_type": "code",
   "execution_count": 22,
   "metadata": {},
   "outputs": [],
   "source": [
    "# define tags to be removed from the email body\n",
    "tags_rm = ['ADV','PRON','CCONJ','PUNCT','PART','DET','ADP','SPACE','NUM','SYM']"
   ]
  },
  {
   "cell_type": "code",
   "execution_count": 23,
   "metadata": {},
   "outputs": [],
   "source": [
    "# tokenize the email body text while removing particular words including stopwords\n",
    "# also the tokens are lemmatized versions of the original words used in the emails\n",
    "tokens = []\n",
    "\n",
    "for email in en_model.pipe(emails['email_body']):\n",
    "    email_token = [token.lemma_.lower() for token in email if token.pos_ not in tags_rm and not token.is_stop and token.is_alpha]\n",
    "    \n",
    "    tokens.append(email_token)"
   ]
  },
  {
   "cell_type": "code",
   "execution_count": 24,
   "metadata": {},
   "outputs": [],
   "source": [
    "# add new tokens to dataset as a new column\n",
    "emails['e_b_token'] = tokens"
   ]
  },
  {
   "cell_type": "code",
   "execution_count": 25,
   "metadata": {},
   "outputs": [
    {
     "data": {
      "text/html": [
       "<div>\n",
       "<style scoped>\n",
       "    .dataframe tbody tr th:only-of-type {\n",
       "        vertical-align: middle;\n",
       "    }\n",
       "\n",
       "    .dataframe tbody tr th {\n",
       "        vertical-align: top;\n",
       "    }\n",
       "\n",
       "    .dataframe thead th {\n",
       "        text-align: right;\n",
       "    }\n",
       "</style>\n",
       "<table border=\"1\" class=\"dataframe\">\n",
       "  <thead>\n",
       "    <tr style=\"text-align: right;\">\n",
       "      <th></th>\n",
       "      <th>file</th>\n",
       "      <th>from</th>\n",
       "      <th>email_body</th>\n",
       "      <th>e_b_token</th>\n",
       "    </tr>\n",
       "  </thead>\n",
       "  <tbody>\n",
       "    <tr>\n",
       "      <th>0</th>\n",
       "      <td>mann___k___sent_mail_608</td>\n",
       "      <td>kay.mann@enron.com</td>\n",
       "      <td>hi warren please print all of these documents ...</td>\n",
       "      <td>[hi, warren, print, document, place, individua...</td>\n",
       "    </tr>\n",
       "    <tr>\n",
       "      <th>1</th>\n",
       "      <td>farmer___d__wellhead_195</td>\n",
       "      <td>mary.poorman@enron.com</td>\n",
       "      <td>i have measurement actuals for the first days ...</td>\n",
       "      <td>[measurement, actual, day, meter, deal, system...</td>\n",
       "    </tr>\n",
       "    <tr>\n",
       "      <th>2</th>\n",
       "      <td>dasovich___j__notes_inbox_1882</td>\n",
       "      <td>susan.mara@enron.com</td>\n",
       "      <td>ill check around with some people today</td>\n",
       "      <td>[ill, check, people, today]</td>\n",
       "    </tr>\n",
       "    <tr>\n",
       "      <th>3</th>\n",
       "      <td>dasovich___j__notes_inbox_1821</td>\n",
       "      <td>susan.mara@enron.com</td>\n",
       "      <td>this is pretty much an allout attack against t...</td>\n",
       "      <td>[allout, attack, position, generator, take]</td>\n",
       "    </tr>\n",
       "    <tr>\n",
       "      <th>4</th>\n",
       "      <td>keavey___p__deleted_items_80</td>\n",
       "      <td>postmaster@dowjones.com</td>\n",
       "      <td>your message to omeara dina edmiston john gas ...</td>\n",
       "      <td>[message, omeara, dina, edmiston, john, gas, d...</td>\n",
       "    </tr>\n",
       "  </tbody>\n",
       "</table>\n",
       "</div>"
      ],
      "text/plain": [
       "                             file                     from  \\\n",
       "0        mann___k___sent_mail_608       kay.mann@enron.com   \n",
       "1        farmer___d__wellhead_195   mary.poorman@enron.com   \n",
       "2  dasovich___j__notes_inbox_1882     susan.mara@enron.com   \n",
       "3  dasovich___j__notes_inbox_1821     susan.mara@enron.com   \n",
       "4    keavey___p__deleted_items_80  postmaster@dowjones.com   \n",
       "\n",
       "                                          email_body  \\\n",
       "0  hi warren please print all of these documents ...   \n",
       "1  i have measurement actuals for the first days ...   \n",
       "2            ill check around with some people today   \n",
       "3  this is pretty much an allout attack against t...   \n",
       "4  your message to omeara dina edmiston john gas ...   \n",
       "\n",
       "                                           e_b_token  \n",
       "0  [hi, warren, print, document, place, individua...  \n",
       "1  [measurement, actual, day, meter, deal, system...  \n",
       "2                        [ill, check, people, today]  \n",
       "3        [allout, attack, position, generator, take]  \n",
       "4  [message, omeara, dina, edmiston, john, gas, d...  "
      ]
     },
     "execution_count": 25,
     "metadata": {},
     "output_type": "execute_result"
    }
   ],
   "source": [
    "emails.head()"
   ]
  },
  {
   "cell_type": "code",
   "execution_count": 26,
   "metadata": {},
   "outputs": [],
   "source": [
    "emails.to_csv('dataset/enron_email_body_tokenized_tm.csv', index=False)"
   ]
  },
  {
   "cell_type": "code",
   "execution_count": 27,
   "metadata": {},
   "outputs": [
    {
     "ename": "NameError",
     "evalue": "name 'Dictionary' is not defined",
     "output_type": "error",
     "traceback": [
      "\u001b[1;31m---------------------------------------------------------------------------\u001b[0m",
      "\u001b[1;31mNameError\u001b[0m                                 Traceback (most recent call last)",
      "\u001b[1;32mw:\\Documents\\CPEN\\L400S1\\AI\\project\\part3\\5-topic-modeling.ipynb Cell 11'\u001b[0m in \u001b[0;36m<cell line: 2>\u001b[1;34m()\u001b[0m\n\u001b[0;32m      <a href='vscode-notebook-cell:/w%3A/Documents/CPEN/L400S1/AI/project/part3/5-topic-modeling.ipynb#ch0000010?line=0'>1</a>\u001b[0m \u001b[39m# assign each word in the tokens an id\u001b[39;00m\n\u001b[1;32m----> <a href='vscode-notebook-cell:/w%3A/Documents/CPEN/L400S1/AI/project/part3/5-topic-modeling.ipynb#ch0000010?line=1'>2</a>\u001b[0m dictionary \u001b[39m=\u001b[39m Dictionary(emails[\u001b[39m'\u001b[39m\u001b[39me_b_token\u001b[39m\u001b[39m'\u001b[39m])\n",
      "\u001b[1;31mNameError\u001b[0m: name 'Dictionary' is not defined"
     ]
    }
   ],
   "source": [
    "# assign each word in the tokens an id\n",
    "dictionary = Dictionary(emails['e_b_token'])"
   ]
  },
  {
   "cell_type": "code",
   "execution_count": null,
   "metadata": {},
   "outputs": [],
   "source": [
    "dictionary.token2id"
   ]
  },
  {
   "cell_type": "code",
   "execution_count": null,
   "metadata": {},
   "outputs": [],
   "source": [
    "# filter tokens (remove tokens that do not appear much and tokens that appear too much)\n",
    "dictionary.filter_extremes(no_below=5, no_above=0.5, keep_m=1000)"
   ]
  },
  {
   "cell_type": "code",
   "execution_count": null,
   "metadata": {},
   "outputs": [],
   "source": [
    "# construct corpus\n",
    "corpus = [dictionary.doc3bow(doc) for doc in emails['e_b_token']]"
   ]
  },
  {
   "cell_type": "code",
   "execution_count": null,
   "metadata": {},
   "outputs": [],
   "source": [
    "lda_model = LdaMulticore(corpus=corpus, id2word=dictionary, iterations=50, num_topics=10, workers=4, passes=5)"
   ]
  },
  {
   "cell_type": "code",
   "execution_count": null,
   "metadata": {},
   "outputs": [],
   "source": [
    "# determine optimal number of topics\n",
    "\n",
    "# using u_mass\n",
    "topics = []\n",
    "score = []\n",
    "\n",
    "for i in range(1,20,1):\n",
    "    lda_model = LdaMulticore(\n",
    "        corpus=corpus, \n",
    "        id2word=dictionary, \n",
    "        iterations=50,\n",
    "        num_topics=i,\n",
    "        workers=4,\n",
    "        passes=5,\n",
    "        random_state=7\n",
    "    )\n",
    "\n",
    "    cm = CoherenceModel(model=lda_model, corpus=corpus, dictionary=dictionary, coherence='u_mass')\n",
    "    topics.append(i)\n",
    "    score.append(cm.get_coherence())"
   ]
  },
  {
   "cell_type": "code",
   "execution_count": null,
   "metadata": {},
   "outputs": [],
   "source": [
    "# using c_v\n",
    "topics = []\n",
    "score = []\n",
    "\n",
    "for i in range(1,20,1):\n",
    "    lda_model = LdaMulticore(\n",
    "        corpus=corpus, \n",
    "        id2word=dictionary, \n",
    "        iterations=50,\n",
    "        num_topics=i,\n",
    "        workers=4,\n",
    "        passes=5,\n",
    "        random_state=7\n",
    "    )\n",
    "\n",
    "    cm = CoherenceModel(model=lda_model, corpus=corpus, dictionary=dictionary, coherence='c_v')\n",
    "    topics.append(i)\n",
    "    score.append(cm.get_coherence())"
   ]
  },
  {
   "cell_type": "code",
   "execution_count": null,
   "metadata": {},
   "outputs": [],
   "source": [
    "plt.plot(topics, score)\n",
    "plt.xlabel('Number of Topics')\n",
    "plt.ylabel('Coherence Score')\n",
    "plt.show()"
   ]
  },
  {
   "cell_type": "code",
   "execution_count": null,
   "metadata": {},
   "outputs": [],
   "source": [
    "lda_model = LdaMulticore(corpus=corpus, id2word=dictionary, iterations=50, num_topics=5, workers=4, passes=5)"
   ]
  },
  {
   "cell_type": "code",
   "execution_count": null,
   "metadata": {},
   "outputs": [],
   "source": [
    "# save model\n",
    "from gensim.test.utils import datapath\n",
    "model_file = datapath('moodels/tm/lda_model_1')\n",
    "lda_model.save(model_file)"
   ]
  }
 ],
 "metadata": {
  "interpreter": {
   "hash": "85556028f1cc2167b9200714882c02383cf0a1a915892b4c44d8458268cf82f6"
  },
  "kernelspec": {
   "display_name": "Python 3.10.4 ('everything-som')",
   "language": "python",
   "name": "python3"
  },
  "language_info": {
   "codemirror_mode": {
    "name": "ipython",
    "version": 3
   },
   "file_extension": ".py",
   "mimetype": "text/x-python",
   "name": "python",
   "nbconvert_exporter": "python",
   "pygments_lexer": "ipython3",
   "version": "3.10.4"
  },
  "orig_nbformat": 4
 },
 "nbformat": 4,
 "nbformat_minor": 2
}
